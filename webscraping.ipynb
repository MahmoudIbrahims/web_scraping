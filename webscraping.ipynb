{
  "nbformat": 4,
  "nbformat_minor": 0,
  "metadata": {
    "colab": {
      "provenance": []
    },
    "kernelspec": {
      "name": "python3",
      "display_name": "Python 3"
    },
    "language_info": {
      "name": "python"
    }
  },
  "cells": [
    {
      "cell_type": "code",
      "source": [
        "from bs4 import BeautifulSoup\n",
        "import requests\n"
      ],
      "metadata": {
        "id": "9pmBMHtaSuZq"
      },
      "execution_count": null,
      "outputs": []
    },
    {
      "cell_type": "markdown",
      "source": [
        "Getpage is Download pades"
      ],
      "metadata": {
        "id": "Uq9W1SdWvFgu"
      }
    },
    {
      "cell_type": "code",
      "source": [
        "def Getpage(link,filename):\n",
        "  page=requests.get(link)\n",
        "  soup=BeautifulSoup(page.content,\"html.parser\")\n",
        " # print(f\"number of pragraphs is :{len(soup.find_all(\"p\"))}\")\n",
        "  try:\n",
        "    title=soup.find(id=\"firstHeading\")\n",
        "    print(f\"page title is:{title.string}\")\n",
        "  except:\n",
        "    pass\n",
        "  if len(soup.find_all(\"p\"))==0:return None\n",
        "  f=open(filename,\"w\",encoding=\"utf_8\")\n",
        "  for i in range(len(soup.find_all(\"p\"))):\n",
        "    f.write(soup.find_all(\"p\")[i].get_text())\n",
        "    f.write(\"\\n\")\n",
        "  f.close()\n"
      ],
      "metadata": {
        "id": "GFgAELSPKnTV"
      },
      "execution_count": null,
      "outputs": []
    },
    {
      "cell_type": "markdown",
      "source": [
        "DOwnloadText is download books\n"
      ],
      "metadata": {
        "id": "OK3VgZBBvj_P"
      }
    },
    {
      "cell_type": "code",
      "source": [
        "def DownloadText(Link,FileName) :\n",
        "    content = requests.get(Link)\n",
        "    print(content.text[:100])\n",
        "    f = open(FileName, \"w\", encoding=\"utf-8\")\n",
        "    f.write(content.text)\n",
        "    f.close()"
      ],
      "metadata": {
        "id": "9CDYN-ZGtZHg"
      },
      "execution_count": null,
      "outputs": []
    },
    {
      "cell_type": "code",
      "source": [
        "Getpage(\"https://en.wikipedia.org/wiki/Artificial_intelligence\",\"Artificial intelligence.txt\")"
      ],
      "metadata": {
        "colab": {
          "base_uri": "https://localhost:8080/"
        },
        "id": "aTaCWlWJPo1i",
        "outputId": "adbf5dcc-d57d-447f-d620-d1bc12fe0d4e"
      },
      "execution_count": null,
      "outputs": [
        {
          "output_type": "stream",
          "name": "stdout",
          "text": [
            "page title is:Artificial intelligence\n"
          ]
        }
      ]
    },
    {
      "cell_type": "code",
      "source": [
        "Getpage(\"https://en.wikipedia.org/wiki/Computer_security\",\"cyber security.txt\")"
      ],
      "metadata": {
        "colab": {
          "base_uri": "https://localhost:8080/"
        },
        "id": "Ut-61riPS7B5",
        "outputId": "7b71ba47-4823-43a3-c6a2-2d28905f07c9"
      },
      "execution_count": null,
      "outputs": [
        {
          "output_type": "stream",
          "name": "stdout",
          "text": [
            "page title is:Computer security\n"
          ]
        }
      ]
    },
    {
      "cell_type": "code",
      "source": [
        " DownloadText(\"https://www.gutenberg.org/cache/epub/1513/pg1513.txt\",\"Romeo and juliet.txt\")"
      ],
      "metadata": {
        "colab": {
          "base_uri": "https://localhost:8080/"
        },
        "id": "FGCyxt7in9bn",
        "outputId": "6c242c5b-426c-4252-f799-7fd2d4d7ce65"
      },
      "execution_count": null,
      "outputs": [
        {
          "output_type": "stream",
          "name": "stdout",
          "text": [
            "﻿The Project Gutenberg eBook of Romeo and Juliet\r\n",
            "    \r\n",
            "This ebook is for the use of anyone anywhere\n"
          ]
        }
      ]
    },
    {
      "cell_type": "code",
      "source": [
        "DownloadText(\"https://www.gutenberg.org/cache/epub/57010/pg57010.txt\",\"history alexandria.txt\")"
      ],
      "metadata": {
        "colab": {
          "base_uri": "https://localhost:8080/"
        },
        "id": "OID1XX8ixnV1",
        "outputId": "03d24713-d9ab-4458-b0a7-f8297e8ade77"
      },
      "execution_count": null,
      "outputs": [
        {
          "output_type": "stream",
          "name": "stdout",
          "text": [
            "﻿The Project Gutenberg eBook of Alexandria: A History and a Guide\r\n",
            "    \r\n",
            "This ebook is for the use o\n"
          ]
        }
      ]
    },
    {
      "cell_type": "markdown",
      "source": [
        "to make concatenate files\n"
      ],
      "metadata": {
        "id": "uePJwltHv5hT"
      }
    },
    {
      "cell_type": "code",
      "source": [
        "files=[\"/content/Artificial intelligence.txt\",\"/content/cyber security.txt\",\"/content/Romeo and juliet.txt\",\"/content/history alexandria.txt\"]\n",
        "with open(\"merged_file.txt\",\"w\")as f:\n",
        "  for file in files:\n",
        "    with open (file,\"r\")as fr:\n",
        "      for line in fr :\n",
        "        f.write(line)"
      ],
      "metadata": {
        "id": "z3ayCv2RUppH"
      },
      "execution_count": null,
      "outputs": []
    },
    {
      "cell_type": "markdown",
      "source": [
        "Read files\n"
      ],
      "metadata": {
        "id": "wISO3H0RwdRg"
      }
    },
    {
      "cell_type": "code",
      "source": [
        "with open (\"/content/merged_file.txt\")as f:\n",
        "  read_data=f.read()\n",
        "  for line in read_data :\n",
        "   print(line,end=\"\")\n",
        "f.close()"
      ],
      "metadata": {
        "id": "QhyDs7KQkeI5"
      },
      "execution_count": null,
      "outputs": []
    }
  ]
}